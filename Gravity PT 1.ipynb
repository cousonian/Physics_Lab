{
 "cells": [
  {
   "cell_type": "code",
   "execution_count": 1,
   "metadata": {},
   "outputs": [
    {
     "name": "stdout",
     "output_type": "stream",
     "text": [
      "gravity 10.275108381961143\n"
     ]
    }
   ],
   "source": [
    "import numpy as np\n",
    "import %%latex \n",
    "\n",
    "height = .7493\n",
    "avgt = 0.3819\n",
    "\n",
    "\n",
    "dh = .0005\n",
    "\n",
    "g = (2*height)/np.square(avgt)\n",
    "print('gravity',g)"
   ]
  },
  {
   "cell_type": "code",
   "execution_count": 11,
   "metadata": {},
   "outputs": [
    {
     "name": "stdout",
     "output_type": "stream",
     "text": [
      "Gravity = 10.275 m/s^2  +/- 1.130\n"
     ]
    }
   ],
   "source": [
    "h = .7493\n",
    "dh = .0005\n",
    "t = 0.3819\n",
    "dt = 0.0210\n",
    "\n",
    "\n",
    "dg = g*(np.sqrt(np.square(dh/h)+np.square(-2*dt/t)))\n",
    "        \n",
    "print('Gravity =',\"%.3f\" %g,'m/s^2  +/-', \"%.3f\" %dg)"
   ]
  },
  {
   "cell_type": "code",
   "execution_count": 6,
   "metadata": {},
   "outputs": [
    {
     "data": {
      "text/plain": [
       "9.145067806178167"
      ]
     },
     "execution_count": 6,
     "metadata": {},
     "output_type": "execute_result"
    }
   ],
   "source": [
    "g-dg"
   ]
  },
  {
   "cell_type": "code",
   "execution_count": null,
   "metadata": {},
   "outputs": [],
   "source": []
  }
 ],
 "metadata": {
  "kernelspec": {
   "display_name": "Python 3",
   "language": "python",
   "name": "python3"
  },
  "language_info": {
   "codemirror_mode": {
    "name": "ipython",
    "version": 3
   },
   "file_extension": ".py",
   "mimetype": "text/x-python",
   "name": "python",
   "nbconvert_exporter": "python",
   "pygments_lexer": "ipython3",
   "version": "3.8.3"
  }
 },
 "nbformat": 4,
 "nbformat_minor": 4
}

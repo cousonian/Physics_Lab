{
 "cells": [
  {
   "cell_type": "code",
   "execution_count": 8,
   "metadata": {},
   "outputs": [],
   "source": [
    "import numpy as np\n",
    "import matplotlib as plt\n"
   ]
  },
  {
   "cell_type": "markdown",
   "metadata": {},
   "source": [
    "# Rules:"
   ]
  },
  {
   "cell_type": "code",
   "execution_count": 9,
   "metadata": {},
   "outputs": [],
   "source": [
    "def rule1(dA,c):\n",
    "    return c*dA"
   ]
  },
  {
   "cell_type": "code",
   "execution_count": 10,
   "metadata": {},
   "outputs": [],
   "source": [
    "def rule2(A,dA,m,c):\n",
    "    return c*m*(A**(m-1))*dA"
   ]
  },
  {
   "cell_type": "code",
   "execution_count": 11,
   "metadata": {},
   "outputs": [],
   "source": [
    "def rule3(dA,dB):\n",
    "    dQ = np.sqrt(dA**2 + dB**2)\n",
    "    return dQ"
   ]
  },
  {
   "cell_type": "code",
   "execution_count": 13,
   "metadata": {},
   "outputs": [],
   "source": [
    "def rule4(Q,A,dA,m,B,dB,n):\n",
    "    s = ((m*dA/A)**2)+((n*dB/B)**2)\n",
    "    return Q*np.sqrt(s)"
   ]
  },
  {
   "cell_type": "markdown",
   "metadata": {},
   "source": [
    "### $F\\_c=\\$ "
   ]
  },
  {
   "cell_type": "code",
   "execution_count": 16,
   "metadata": {},
   "outputs": [
    {
     "data": {
      "text/plain": [
       "0.09027805607544004"
      ]
     },
     "execution_count": 16,
     "metadata": {},
     "output_type": "execute_result"
    }
   ],
   "source": [
    "#from last week's data\n",
    "\n",
    "mass = .2083\n",
    "d_mass = .0001\n",
    "F = 0.7888683507240091\n",
    "slope = 10.424241737471668\n",
    "d_slope = 1.1929392256645142\n",
    "\n",
    "rule4(F,mass,d_mass,1,slope,d_slope,1)"
   ]
  },
  {
   "cell_type": "code",
   "execution_count": 17,
   "metadata": {},
   "outputs": [],
   "source": [
    "#The results from last week is the same as this one, as I also used python to calculate the error"
   ]
  },
  {
   "cell_type": "code",
   "execution_count": 24,
   "metadata": {},
   "outputs": [
    {
     "name": "stdout",
     "output_type": "stream",
     "text": [
      "0.073282810879294\n"
     ]
    }
   ],
   "source": [
    "#Continue in your Jupyter Notebook\n",
    "#1. For the following dataset, calculate the mean (average) and the error in the mean using the numpy functions\n",
    "#of np.std() for standard deviation and np.average(). x = 1.1, 1.3, 1.4, 0.9, 0.95, 1.05\n",
    "#2. Write out your results in a sentence.\n",
    "\n",
    "x = 1.1, 1.3, 1.4, 0.9, 0.95, 1.05\n",
    "st = np.std(x)\n",
    "avg = np.average(x)\n",
    "error = st/np.sqrt(len(x))\n",
    "print(error)"
   ]
  },
  {
   "cell_type": "code",
   "execution_count": 23,
   "metadata": {},
   "outputs": [
    {
     "name": "stdout",
     "output_type": "stream",
     "text": [
      "0.17950549357115014\n",
      "1.1166666666666667\n"
     ]
    }
   ],
   "source": [
    "print(st)\n",
    "print(avg)"
   ]
  },
  {
   "cell_type": "markdown",
   "metadata": {},
   "source": [
    "For the dataset of x the standard deviation $\\sigma=.18$ and the average = $1.116\\pm.07$"
   ]
  },
  {
   "cell_type": "markdown",
   "metadata": {},
   "source": [
    "### Rule3"
   ]
  },
  {
   "cell_type": "markdown",
   "metadata": {},
   "source": [
    "$\\delta Q = Q\\sqrt{(\\delta A)^2+(\\delta B)^2}$\n"
   ]
  },
  {
   "cell_type": "markdown",
   "metadata": {},
   "source": [
    "### $F_c$"
   ]
  },
  {
   "cell_type": "markdown",
   "metadata": {},
   "source": [
    "$\\delta F_c = F_c \\sqrt{(1\\frac{\\delta m}{m})^2 + 1\\frac{\\delta slope}{slope})^2 }$"
   ]
  },
  {
   "cell_type": "code",
   "execution_count": null,
   "metadata": {},
   "outputs": [],
   "source": []
  }
 ],
 "metadata": {
  "kernelspec": {
   "display_name": "Python 3",
   "language": "python",
   "name": "python3"
  },
  "language_info": {
   "codemirror_mode": {
    "name": "ipython",
    "version": 3
   },
   "file_extension": ".py",
   "mimetype": "text/x-python",
   "name": "python",
   "nbconvert_exporter": "python",
   "pygments_lexer": "ipython3",
   "version": "3.8.3"
  }
 },
 "nbformat": 4,
 "nbformat_minor": 4
}
